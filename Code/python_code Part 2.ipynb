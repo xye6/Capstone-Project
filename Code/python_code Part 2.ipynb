{
 "cells": [
  {
   "cell_type": "code",
   "execution_count": 1,
   "metadata": {
    "ExecuteTime": {
     "end_time": "2018-12-14T01:07:08.413392Z",
     "start_time": "2018-12-14T01:07:08.402544Z"
    }
   },
   "outputs": [
    {
     "data": {
      "text/html": [
       "<style>.container { width:100% !important; }</style>"
      ],
      "text/plain": [
       "<IPython.core.display.HTML object>"
      ]
     },
     "metadata": {},
     "output_type": "display_data"
    }
   ],
   "source": [
    "from IPython.core.display import display, HTML\n",
    "display(HTML(\"<style>.container { width:100% !important; }</style>\"))"
   ]
  },
  {
   "cell_type": "markdown",
   "metadata": {
    "heading_collapsed": true
   },
   "source": [
    "### Generate combine_bc.csv"
   ]
  },
  {
   "cell_type": "code",
   "execution_count": null,
   "metadata": {
    "hidden": true
   },
   "outputs": [],
   "source": [
    "import pandas as pd\n",
    "\n",
    "black_inscope= pd.read_csv('/public/xye6/Xerox/black_inscope.csv',sep='\\t',index_col=0)\n",
    "black_inscope['dim_asset_inscope']=1\n",
    "\n",
    "\n",
    "black_outscope=pd.read_csv('/public/xye6/Xerox/black_outscope.csv',sep='\\t',index_col=0)\n",
    "black_outscope['dim_asset_inscope']=0\n",
    "\n",
    "color_inscope=pd.read_csv('/public/xye6/Xerox/color_inscope.csv',sep='\\t',index_col=0)\n",
    "color_inscope['dim_asset_inscope']=1\n",
    "\n",
    "\n",
    "color_outscope=pd.read_csv('/public/xye6/Xerox/color_outscope.csv',sep='\\t',index_col=0)\n",
    "color_outscope['dim_asset_inscope']=0"
   ]
  },
  {
   "cell_type": "code",
   "execution_count": null,
   "metadata": {
    "hidden": true
   },
   "outputs": [],
   "source": [
    "black=pd.concat([black_inscope,black_outscope])\n",
    "color=pd.concat([color_inscope,color_outscope])"
   ]
  },
  {
   "cell_type": "code",
   "execution_count": null,
   "metadata": {
    "hidden": true
   },
   "outputs": [],
   "source": [
    "combine_bc = pd.merge(black, color, how='outer', on=['dim_asset_sk', 'dim_acct_sk','month','dim_asset_inscope'])\n",
    "combine_bc=combine_bc.sort_values(['dim_acct_sk','dim_asset_sk','month'])"
   ]
  },
  {
   "cell_type": "code",
   "execution_count": null,
   "metadata": {
    "hidden": true
   },
   "outputs": [],
   "source": [
    "#combine_bc.to_csv('/public/xye6/Xerox/combine_bc.csv', sep='\\t')"
   ]
  },
  {
   "cell_type": "code",
   "execution_count": null,
   "metadata": {
    "hidden": true
   },
   "outputs": [],
   "source": []
  },
  {
   "cell_type": "markdown",
   "metadata": {
    "heading_collapsed": true
   },
   "source": [
    "### Final processed dataset \n",
    "### info_total_with_class.csv"
   ]
  },
  {
   "cell_type": "code",
   "execution_count": null,
   "metadata": {
    "hidden": true
   },
   "outputs": [],
   "source": [
    "import pandas as pd\n",
    "location_info= pd.read_csv('/public/xye6/Xerox/volume_location.csv',sep='\\t',index_col=0)\n",
    "#combine_bc=pd.read_csv('/public/xye6/Xerox/combine_bc.csv',sep='\\t',index_col=0)\n",
    "combine_bc['ColorVolume'].fillna(0,inplace=True)\n",
    "combine_bc['BlackVolume'].fillna(0,inplace=True)"
   ]
  },
  {
   "cell_type": "code",
   "execution_count": null,
   "metadata": {
    "hidden": true
   },
   "outputs": [],
   "source": [
    "info_total=pd.merge(combine_bc,location_info,on=['dim_asset_sk','dim_acct_sk'],how='left')"
   ]
  },
  {
   "cell_type": "code",
   "execution_count": null,
   "metadata": {
    "hidden": true
   },
   "outputs": [],
   "source": [
    "def ppm_classification(row):\n",
    "    \n",
    "    if row['max_ppm']>=0 and row['max_ppm']<20:\n",
    "        return 1\n",
    "        \n",
    "    elif row['max_ppm']>=20 and row['max_ppm']<40:\n",
    "        return 2\n",
    "            \n",
    "    elif row['max_ppm']>=40 and row['max_ppm']<60:\n",
    "        return 3\n",
    "            \n",
    "    elif row['max_ppm']>=60 and row['max_ppm']<200:\n",
    "        return 4\n",
    "            \n",
    "    else:\n",
    "        return 5\n",
    "    \n",
    "\n",
    "##info_total_with_class.csv\n",
    "info_total['classification']=info_total.apply(ppm_classification,axis=1)"
   ]
  },
  {
   "cell_type": "code",
   "execution_count": null,
   "metadata": {
    "hidden": true
   },
   "outputs": [],
   "source": []
  },
  {
   "cell_type": "markdown",
   "metadata": {
    "heading_collapsed": true
   },
   "source": [
    "### ppm_analysis.csv (for tableau volume analysis)"
   ]
  },
  {
   "cell_type": "code",
   "execution_count": null,
   "metadata": {
    "hidden": true
   },
   "outputs": [],
   "source": [
    "tmp1=info_total_with_class.groupby(['month','dim_model_manf_nm','dim_asset_inscope']).agg({'BlackVolume':'sum','ColorVolume':'sum'}).reset_index()\n",
    "tmp2=info_total_with_class[['dim_model_manf_nm','max_ppm','region','classification']].drop_duplicates()\n"
   ]
  },
  {
   "cell_type": "code",
   "execution_count": null,
   "metadata": {
    "hidden": true
   },
   "outputs": [],
   "source": [
    "ppm_analysis=pd.merge(tmp1,tmp2,on='dim_model_manf_nm',how='left')\n",
    "\n",
    "\n",
    "##ppm_analysis.csv\n",
    "ppm_analysis['total_volume']=ppm_analysis['BlackVolume']+ppm_analysis['ColorVolume']"
   ]
  },
  {
   "cell_type": "code",
   "execution_count": null,
   "metadata": {
    "hidden": true
   },
   "outputs": [],
   "source": []
  },
  {
   "cell_type": "markdown",
   "metadata": {
    "heading_collapsed": true
   },
   "source": [
    "### BW_outscope_withppm.csv \n",
    "### CL_outscope_withppm.csv"
   ]
  },
  {
   "cell_type": "code",
   "execution_count": null,
   "metadata": {
    "hidden": true
   },
   "outputs": [],
   "source": [
    "info_all=pd.read_csv('/public/xye6/Xerox/info_total_with_class.csv')\n",
    "BW_Acct_with_loc_manuf_slopes=pd.read_csv('/public/ywu82/BW_Acct_with_loc_manuf_slopes.csv')\n",
    "COL_Acct_with_loc_manuf_slopes=pd.read_csv('/public/ywu82/COL_Acct_with_loc_manuf_slopes.csv')\n"
   ]
  },
  {
   "cell_type": "code",
   "execution_count": null,
   "metadata": {
    "hidden": true
   },
   "outputs": [],
   "source": [
    "BW_outscope=info_all.groupby(['dim_asset_sk','dim_acct_sk','region','dim_model_manf_nm','dim_asset_inscope']).agg({'BlackVolume':'sum'}).reset_index()\n",
    "CL_outscope=info_all.groupby(['dim_asset_sk','dim_acct_sk','region','dim_model_manf_nm','dim_asset_inscope']).agg({'ColorVolume':'sum'}).reset_index()\n",
    "\n",
    "BW_outscope=BW_outscope[BW_outscope['dim_asset_inscope']==0]\n",
    "CL_outscope=CL_outscope[CL_outscope['dim_asset_inscope']==0]\n",
    "\n",
    "t1=BW_Acct_with_loc_manuf_slopes[['dim_acct_sk','region','dim_model_manf_nm','slopes','p-value']]\n",
    "t2=COL_Acct_with_loc_manuf_slopes[['dim_acct_sk','region','dim_model_manf_nm','slopes','p-value']]\n",
    "\n",
    "BW_outscope_with_slope=pd.merge(BW_outscope,t1,on=['dim_acct_sk','region','dim_model_manf_nm'],how='left')\n",
    "CL_outscope_with_slope=pd.merge(CL_outscope,t2,on=['dim_acct_sk','region','dim_model_manf_nm'],how='left')\n",
    "\n",
    "BW_outscope_with_slope1=BW_outscope_with_slope[BW_outscope_with_slope['slopes'].notnull()]\n",
    "CL_outscope_with_slope1=CL_outscope_with_slope[CL_outscope_with_slope['slopes'].notnull()]\n",
    "\n",
    "t=info_all[['dim_asset_sk','max_ppm']]\n",
    "BW_outscope_withppm=pd.merge(BW_outscope_with_slope1,t,on=['dim_asset_sk'],how='left')\n",
    "CL_outscope_withppm=pd.merge(CL_outscope_with_slope1,t,on=['dim_asset_sk'],how='left')"
   ]
  },
  {
   "cell_type": "code",
   "execution_count": null,
   "metadata": {
    "hidden": true
   },
   "outputs": [],
   "source": [
    "#BW_outscope_withppm.to_csv('/public/xye6/Xerox/BW_outscope_withppm.csv',index=False)\n",
    "#CL_outscope_withppm.to_csv('/public/xye6/Xerox/CL_outscope_withppm.csv',index=False)"
   ]
  }
 ],
 "metadata": {
  "kernelspec": {
   "display_name": "Python 3 (anaconda3 5.3.0)",
   "language": "python",
   "name": "anaconda3-5.3.0"
  },
  "language_info": {
   "codemirror_mode": {
    "name": "ipython",
    "version": 3
   },
   "file_extension": ".py",
   "mimetype": "text/x-python",
   "name": "python",
   "nbconvert_exporter": "python",
   "pygments_lexer": "ipython3",
   "version": "3.7.0"
  },
  "varInspector": {
   "cols": {
    "lenName": 16,
    "lenType": 16,
    "lenVar": 40
   },
   "kernels_config": {
    "python": {
     "delete_cmd_postfix": "",
     "delete_cmd_prefix": "del ",
     "library": "var_list.py",
     "varRefreshCmd": "print(var_dic_list())"
    },
    "r": {
     "delete_cmd_postfix": ") ",
     "delete_cmd_prefix": "rm(",
     "library": "var_list.r",
     "varRefreshCmd": "cat(var_dic_list()) "
    }
   },
   "types_to_exclude": [
    "module",
    "function",
    "builtin_function_or_method",
    "instance",
    "_Feature"
   ],
   "window_display": false
  }
 },
 "nbformat": 4,
 "nbformat_minor": 2
}

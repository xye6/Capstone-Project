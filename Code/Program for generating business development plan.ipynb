{
 "cells": [
  {
   "cell_type": "code",
   "execution_count": 19,
   "metadata": {},
   "outputs": [],
   "source": [
    "import pandas as pd"
   ]
  },
  {
   "cell_type": "code",
   "execution_count": 20,
   "metadata": {},
   "outputs": [],
   "source": [
    "out_bw = pd.read_csv('/public/xye6/Xerox/BW_outscope_withppm.csv')\n",
    "del out_bw['dim_asset_inscope']\n",
    "del out_bw['p-value']"
   ]
  },
  {
   "cell_type": "code",
   "execution_count": 21,
   "metadata": {},
   "outputs": [],
   "source": [
    "out_color = pd.read_csv('/public/xye6/Xerox/CL_outscope_withppm.csv')\n",
    "del out_color['dim_asset_inscope']\n",
    "del out_color['p-value']"
   ]
  },
  {
   "cell_type": "code",
   "execution_count": 22,
   "metadata": {},
   "outputs": [],
   "source": [
    "def find_bw_opp(data, ppm, percent, target):\n",
    "    temp = data[data['max_ppm']<=ppm]\n",
    "    group_data = temp.groupby(['dim_acct_sk','region','dim_model_manf_nm'])['BlackVolume'].sum()\n",
    "    group_data = group_data.reset_index()\n",
    "    temp_slope_data = data[['dim_acct_sk','region','dim_model_manf_nm','slopes']]\n",
    "    group_data = pd.merge(group_data, temp_slope_data, on=['dim_acct_sk','region','dim_model_manf_nm'])\n",
    "    group_data = group_data.sort_values('slopes',ascending=False)\n",
    "    group_data.drop_duplicates(inplace=True)\n",
    "    \n",
    "    temp_sum = 0\n",
    "    client_list = []\n",
    "    acquire = []\n",
    "    for i in range(len(group_data)):\n",
    "        if temp_sum >= target:\n",
    "            break\n",
    "        result = round(group_data.iloc[i]['BlackVolume'] * percent)\n",
    "        if result > 0:\n",
    "            temp_sum += result\n",
    "            client_list.append(i)\n",
    "            acquire.append(result)\n",
    "            \n",
    "    if temp_sum < target:\n",
    "        print('can''t meet the requirement, please set up a higher threshold for each clients or decrease target number')\n",
    "    final_result = group_data.iloc[client_list]\n",
    "    final_result['acquired_quantity'] = acquire\n",
    "    \n",
    "    return final_result"
   ]
  },
  {
   "cell_type": "code",
   "execution_count": 23,
   "metadata": {},
   "outputs": [],
   "source": [
    "def find_color_opp(data, ppm, percent, target):\n",
    "    temp = data[data['max_ppm']<=ppm]\n",
    "    group_data = temp.groupby(['dim_acct_sk','region','dim_model_manf_nm'])['ColorVolume'].sum()\n",
    "    group_data = group_data.reset_index()\n",
    "    temp_slope_data = data[['dim_acct_sk','region','dim_model_manf_nm','slopes']]\n",
    "    group_data = pd.merge(group_data, temp_slope_data, on=['dim_acct_sk','region','dim_model_manf_nm'])\n",
    "    group_data = group_data.sort_values('slopes',ascending=False)\n",
    "    group_data.drop_duplicates(inplace=True)\n",
    "    \n",
    "    temp_sum = 0\n",
    "    client_list = []\n",
    "    acquire = []\n",
    "    for i in range(len(group_data)):\n",
    "        if temp_sum >= target:\n",
    "            break\n",
    "        result = round(group_data.iloc[i]['ColorVolume'] * percent)\n",
    "        if result > 0:\n",
    "            temp_sum += result\n",
    "            client_list.append(i)\n",
    "            acquire.append(result)\n",
    "            \n",
    "    if temp_sum < target:\n",
    "        print('can''t meet the requirement, please set up a higher threshold for each clients or decrease target number')\n",
    "    final_result = group_data.iloc[client_list]\n",
    "    final_result['acquired_quantity'] = acquire\n",
    "    \n",
    "    return final_result"
   ]
  },
  {
   "cell_type": "markdown",
   "metadata": {},
   "source": [
    "## generate client list for black volume\n",
    "### change the parameters in next two lines (data table, ppm, percent, target)\n",
    "#### check the report/readme to know details of parameters"
   ]
  },
  {
   "cell_type": "code",
   "execution_count": 24,
   "metadata": {},
   "outputs": [],
   "source": [
    "black_target = 2 * 10 ** 9"
   ]
  },
  {
   "cell_type": "code",
   "execution_count": 25,
   "metadata": {},
   "outputs": [
    {
     "name": "stderr",
     "output_type": "stream",
     "text": [
      "/software/anaconda3/5.2.0/lib/python3.6/site-packages/ipykernel/__main__.py:25: SettingWithCopyWarning: \n",
      "A value is trying to be set on a copy of a slice from a DataFrame.\n",
      "Try using .loc[row_indexer,col_indexer] = value instead\n",
      "\n",
      "See the caveats in the documentation: http://pandas.pydata.org/pandas-docs/stable/indexing.html#indexing-view-versus-copy\n"
     ]
    }
   ],
   "source": [
    "bw_list = find_bw_opp(out_bw, 150, 0.3, black_target)"
   ]
  },
  {
   "cell_type": "markdown",
   "metadata": {},
   "source": [
    "## generate client list for color volume\n",
    "### change the parameters in next two lines (data table, ppm, percent, target)\n",
    "#### check the report/readme to know details of parameters"
   ]
  },
  {
   "cell_type": "code",
   "execution_count": 26,
   "metadata": {},
   "outputs": [],
   "source": [
    "color_target = 10 ** 8"
   ]
  },
  {
   "cell_type": "code",
   "execution_count": 27,
   "metadata": {},
   "outputs": [
    {
     "name": "stdout",
     "output_type": "stream",
     "text": [
      "cant meet the requirement, please set up a higher threshold for each clients or decrease target number\n"
     ]
    },
    {
     "name": "stderr",
     "output_type": "stream",
     "text": [
      "/software/anaconda3/5.2.0/lib/python3.6/site-packages/ipykernel/__main__.py:25: SettingWithCopyWarning: \n",
      "A value is trying to be set on a copy of a slice from a DataFrame.\n",
      "Try using .loc[row_indexer,col_indexer] = value instead\n",
      "\n",
      "See the caveats in the documentation: http://pandas.pydata.org/pandas-docs/stable/indexing.html#indexing-view-versus-copy\n"
     ]
    }
   ],
   "source": [
    "color_list = find_color_opp(out_color, 150, 0.3, color_target)"
   ]
  },
  {
   "cell_type": "code",
   "execution_count": 28,
   "metadata": {},
   "outputs": [],
   "source": [
    "bw_list.to_csv('client_list_bw.csv',index=False)\n",
    "color_list.to_csv('client_list_color.csv',index=False)"
   ]
  }
 ],
 "metadata": {
  "kernelspec": {
   "display_name": "Python 3 (anaconda3 5.2.0)",
   "language": "python",
   "name": "anaconda3"
  },
  "language_info": {
   "codemirror_mode": {
    "name": "ipython",
    "version": 3
   },
   "file_extension": ".py",
   "mimetype": "text/x-python",
   "name": "python",
   "nbconvert_exporter": "python",
   "pygments_lexer": "ipython3",
   "version": "3.6.5"
  }
 },
 "nbformat": 4,
 "nbformat_minor": 2
}
